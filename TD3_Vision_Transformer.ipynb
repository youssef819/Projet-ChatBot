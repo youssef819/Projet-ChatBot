{
  "cells": [
    {
      "cell_type": "markdown",
      "metadata": {
        "id": "view-in-github",
        "colab_type": "text"
      },
      "source": [
        "<a href=\"https://colab.research.google.com/github/youssef819/Projet-ChatBot/blob/main/TD3_Vision_Transformer.ipynb\" target=\"_parent\"><img src=\"https://colab.research.google.com/assets/colab-badge.svg\" alt=\"Open In Colab\"/></a>"
      ]
    },
    {
      "cell_type": "markdown",
      "metadata": {
        "id": "9QjL_kaa1_KS"
      },
      "source": [
        "# TD3: Vision Transformer (ViT)\n",
        "\n",
        "In this TD, you must modify this notebook to complete the code (**# TO DO comments**) and complete the **proposed experiments**. To do this,\n",
        "\n",
        "1. Fork this repository\n",
        "2. Clone your forked repository on your local computer\n",
        "3. Add your code and answer the questions\n",
        "4. Commit and push regularly\n",
        "\n",
        "**The last commit is due on Wednesday, January 8, 2025**. Later commits will not be taken into account.\n",
        "\n",
        "As the computation is heavy, particularly during training, we encourage you to use a GPU. If your laptob is not equiped, you may use one of these remote jupyter servers, where you can select the execution on GPU :\n",
        "\n",
        "1) [jupyter.mi90.ec-lyon.fr](https://jupyter.mi90.ec-lyon.fr/)\n",
        "\n",
        "This server is accessible within the campus network. If outside, you need to use a VPN. Before executing the notebook, select the kernel \"Python PyTorch\" to run it on GPU and have access to PyTorch module.\n",
        "\n",
        "2) [Google Colaboratory](https://colab.research.google.com/)\n",
        "\n",
        "Before executing the notebook, select the execution on GPU : \"Exécution\" Menu -> \"Modifier le type d'exécution\" and select \"T4 GPU\"."
      ]
    },
    {
      "cell_type": "markdown",
      "metadata": {
        "id": "kB7LEW271_KU"
      },
      "source": [
        "### Goal of the TD\n",
        "\n",
        "Transformers have been introduced by [Vaswani et al. in 2017](https://arxiv.org/abs/1706.03762) in the context of NLP (Natural Language Processing), and particulary for Machine Translation.\n",
        "\n",
        "Its great success has led to its adaptation to various applications, including image classification. In this trend, [Dosovitskiy et al. in 2020](https://arxiv.org/abs/2010.11929) have proposed Vision Transformers (ViT) that we will study and implement from scratch in this TD.\n",
        "\n",
        "The principle is illustrated in the following picture from this paper.\n",
        "\n",
        "![Vision Tranformers](./figures/vit.png \"Vision Transformers\")\n",
        "\n",
        "First, an input image is “cut” into sub-images equally sized.\n",
        "\n",
        "Each such sub-image goes through a linear embedding. From then, each sub-image becomes a one-dimensional vector.\n",
        "\n",
        "A positional embedding is then added to these vectors (tokens). The positional embedding allows the network to know where each sub-image is positioned originally in the image. Without this information, the network would not be able to know where each such image would be placed, leading to potentially wrong predictions.\n",
        "\n",
        "These tokens are then passed, together with a special classification token, to the transformer encoders blocks, were each is composed of : A Layer Normalization (LN), followed by a Multi-head Self Attention (MSA) and a residual connection. Then a second LN, a Multi-Layer Perceptron (MLP), and again a residual connection. These blocks are connected back-to-back.\n",
        "\n",
        "Finally, a classification MLP head is used for the final classification only on the special classification token, which by the end of this process has global information about the picture.\n"
      ]
    },
    {
      "cell_type": "markdown",
      "metadata": {
        "id": "lJDxNRQ01_KU"
      },
      "source": [
        "### Implementation of the ViT model"
      ]
    },
    {
      "cell_type": "markdown",
      "metadata": {
        "id": "Adjh0xS11_KU"
      },
      "source": [
        "First, we import the required modules."
      ]
    },
    {
      "cell_type": "code",
      "execution_count": 2,
      "metadata": {
        "id": "wEmbaOA4Okuo"
      },
      "outputs": [],
      "source": [
        "# Import modules\n",
        "import numpy as np\n",
        "import torch\n",
        "import torch.nn as nn\n",
        "from torch.nn import CrossEntropyLoss\n",
        "from torch.optim import Adam\n",
        "from torch.utils.data import DataLoader\n",
        "from torchvision.datasets.mnist import MNIST\n",
        "from torchvision.transforms import ToTensor\n",
        "import torch.nn.functional as F\n",
        "import matplotlib.pyplot as plt"
      ]
    },
    {
      "cell_type": "markdown",
      "metadata": {
        "id": "J5h2mA_e1_KV"
      },
      "source": [
        "For this first experiment, we will use the MNIST dataset that contains 28x28 binary pixels images of hand-written digits ([0–9])."
      ]
    },
    {
      "cell_type": "code",
      "execution_count": 3,
      "metadata": {
        "id": "ISnhTkrq1_KV",
        "colab": {
          "base_uri": "https://localhost:8080/"
        },
        "outputId": "85f45505-0c40-4f6b-8607-58aaf3e535d4",
        "collapsed": true
      },
      "outputs": [
        {
          "output_type": "stream",
          "name": "stdout",
          "text": [
            "Downloading http://yann.lecun.com/exdb/mnist/train-images-idx3-ubyte.gz\n",
            "Failed to download (trying next):\n",
            "HTTP Error 403: Forbidden\n",
            "\n",
            "Downloading https://ossci-datasets.s3.amazonaws.com/mnist/train-images-idx3-ubyte.gz\n",
            "Downloading https://ossci-datasets.s3.amazonaws.com/mnist/train-images-idx3-ubyte.gz to datasets/MNIST/raw/train-images-idx3-ubyte.gz\n"
          ]
        },
        {
          "output_type": "stream",
          "name": "stderr",
          "text": [
            "100%|██████████| 9.91M/9.91M [00:00<00:00, 16.4MB/s]\n"
          ]
        },
        {
          "output_type": "stream",
          "name": "stdout",
          "text": [
            "Extracting datasets/MNIST/raw/train-images-idx3-ubyte.gz to datasets/MNIST/raw\n",
            "\n",
            "Downloading http://yann.lecun.com/exdb/mnist/train-labels-idx1-ubyte.gz\n",
            "Failed to download (trying next):\n",
            "HTTP Error 403: Forbidden\n",
            "\n",
            "Downloading https://ossci-datasets.s3.amazonaws.com/mnist/train-labels-idx1-ubyte.gz\n",
            "Downloading https://ossci-datasets.s3.amazonaws.com/mnist/train-labels-idx1-ubyte.gz to datasets/MNIST/raw/train-labels-idx1-ubyte.gz\n"
          ]
        },
        {
          "output_type": "stream",
          "name": "stderr",
          "text": [
            "100%|██████████| 28.9k/28.9k [00:00<00:00, 500kB/s]\n"
          ]
        },
        {
          "output_type": "stream",
          "name": "stdout",
          "text": [
            "Extracting datasets/MNIST/raw/train-labels-idx1-ubyte.gz to datasets/MNIST/raw\n",
            "\n",
            "Downloading http://yann.lecun.com/exdb/mnist/t10k-images-idx3-ubyte.gz\n",
            "Failed to download (trying next):\n",
            "HTTP Error 403: Forbidden\n",
            "\n",
            "Downloading https://ossci-datasets.s3.amazonaws.com/mnist/t10k-images-idx3-ubyte.gz\n",
            "Downloading https://ossci-datasets.s3.amazonaws.com/mnist/t10k-images-idx3-ubyte.gz to datasets/MNIST/raw/t10k-images-idx3-ubyte.gz\n"
          ]
        },
        {
          "output_type": "stream",
          "name": "stderr",
          "text": [
            "100%|██████████| 1.65M/1.65M [00:00<00:00, 4.53MB/s]\n"
          ]
        },
        {
          "output_type": "stream",
          "name": "stdout",
          "text": [
            "Extracting datasets/MNIST/raw/t10k-images-idx3-ubyte.gz to datasets/MNIST/raw\n",
            "\n",
            "Downloading http://yann.lecun.com/exdb/mnist/t10k-labels-idx1-ubyte.gz\n",
            "Failed to download (trying next):\n",
            "HTTP Error 403: Forbidden\n",
            "\n",
            "Downloading https://ossci-datasets.s3.amazonaws.com/mnist/t10k-labels-idx1-ubyte.gz\n",
            "Downloading https://ossci-datasets.s3.amazonaws.com/mnist/t10k-labels-idx1-ubyte.gz to datasets/MNIST/raw/t10k-labels-idx1-ubyte.gz\n"
          ]
        },
        {
          "output_type": "stream",
          "name": "stderr",
          "text": [
            "100%|██████████| 4.54k/4.54k [00:00<00:00, 2.93MB/s]"
          ]
        },
        {
          "output_type": "stream",
          "name": "stdout",
          "text": [
            "Extracting datasets/MNIST/raw/t10k-labels-idx1-ubyte.gz to datasets/MNIST/raw\n",
            "\n"
          ]
        },
        {
          "output_type": "stream",
          "name": "stderr",
          "text": [
            "\n"
          ]
        }
      ],
      "source": [
        "from torch.utils.data import DataLoader, RandomSampler\n",
        "from torch.utils.data import Subset, DataLoader\n",
        "\n",
        "# Load data\n",
        "transform = ToTensor()\n",
        "\n",
        "train_set = MNIST(\n",
        "    root=\"datasets\", train=True, download=True, transform=transform\n",
        ")\n",
        "test_set = MNIST(\n",
        "    root=\"datasets\", train=False, download=True, transform=transform\n",
        ")\n",
        "\n",
        "train_loader = DataLoader(train_set, shuffle=True, batch_size=128)\n",
        "test_loader = DataLoader(test_set, shuffle=False, batch_size=128)"
      ]
    },
    {
      "cell_type": "code",
      "source": [
        "# Let's check our loaders' dimensions\n",
        "print(train_loader.dataset.data.shape)\n",
        "print(test_loader.dataset.data.shape)"
      ],
      "metadata": {
        "colab": {
          "base_uri": "https://localhost:8080/"
        },
        "id": "-15fFdZC4RJV",
        "outputId": "ef6d2186-9e94-4e48-e8b2-2cc8505576aa"
      },
      "execution_count": 4,
      "outputs": [
        {
          "output_type": "stream",
          "name": "stdout",
          "text": [
            "torch.Size([60000, 28, 28])\n",
            "torch.Size([10000, 28, 28])\n"
          ]
        }
      ]
    },
    {
      "cell_type": "code",
      "source": [
        "# Have a look at some training pictures\n",
        "import matplotlib.pyplot as plt\n",
        "import torch\n",
        "from torch.utils.data import DataLoader\n",
        "\n",
        "data_iter = iter(train_loader)\n",
        "images, labels = next(data_iter)\n",
        "\n",
        "fig, axes = plt.subplots(1, 3, figsize=(15, 5)) # 3 images\n",
        "\n",
        "for i in range(3):\n",
        "    image = images[i]\n",
        "    label = labels[i].item()\n",
        "\n",
        "    image = image.numpy().transpose((1, 2, 0))\n",
        "    axes[i].imshow(image, cmap=\"gray\")\n",
        "    axes[i].set_title(f\"Label: {label}\")\n",
        "    axes[i].axis('off')\n",
        "\n",
        "plt.show()\n"
      ],
      "metadata": {
        "colab": {
          "base_uri": "https://localhost:8080/",
          "height": 393
        },
        "id": "K_fE6DFq5Dj5",
        "outputId": "ac833577-1f39-44ae-910c-495f19417470"
      },
      "execution_count": 5,
      "outputs": [
        {
          "output_type": "display_data",
          "data": {
            "text/plain": [
              "<Figure size 1500x500 with 3 Axes>"
            ],
            "image/png": "[encoded data removed]"
          },
          "metadata": {}
        }
      ]
    },
    {
      "cell_type": "markdown",
      "metadata": {
        "id": "fs-HXfuP1_KV"
      },
      "source": [
        "### \"Patchification\"\n",
        "The transformer encoder was originally developed with sequence data in mind, such as English sentences. However, as an image is not a sequence, we need to “sequencify” an image. To do this, we break it into multiple sub-images and map each sub-image to a vector.\n",
        "\n",
        "We do so by simply reshaping our input, which has size (N, C, H, W), where N is the batch size, C the number of channels and (H,W) the image dimension. In the case of MNIST, dimensions are (N, 1, 28, 28). The target dimension is (N, #Patches, Patch dimensionality), where the dimensionality of a patch is adjusted accordingly.\n",
        "\n",
        "In this example, we break each (1, 28, 28) into 7x7 patches (hence, each of size 4x4). That is, we are going to obtain 7x7=49 sub-images out of a single image.\n",
        "\n",
        "Thus, we reshape input (N, 1, 28, 28) to (N, PxP, C x H/P x W/P) = (N, 49, 16)\n",
        "\n",
        "Notice that, while each patch is a picture of size 1x4x4, we flatten it to a 16-dimensional vector. Also, in this case, we only had a single color channel. If we had multiple color channels, those would also have been flattened into the vector."
      ]
    },
    {
      "cell_type": "code",
      "execution_count": 6,
      "metadata": {
        "id": "fxhHKKDFOoHp"
      },
      "outputs": [],
      "source": [
        "def patchify(images, n_patches):\n",
        "    # n_patches: number of height/width divisions of the input image\n",
        "    n, c, h, w = images.shape\n",
        "\n",
        "    assert h == w, \"Patchify method is implemented for square images only\"\n",
        "\n",
        "    # Patches dimensions: (N, P*P, C * H/P * W/P)\n",
        "    patches = torch.zeros(n, n_patches**2, h * w * c // n_patches**2)\n",
        "    patches = patches.to(device)\n",
        "    patch_size = h // n_patches\n",
        "\n",
        "    # Image dimensions: (C, H, W)\n",
        "    for idx, image in enumerate(images):\n",
        "        for i in range(n_patches):\n",
        "            for j in range(n_patches):\n",
        "                # Patch dimensions: (C, H/P, W/P)\n",
        "                patch = image[\n",
        "                    :,\n",
        "                    i * patch_size : (i + 1) * patch_size,\n",
        "                    j * patch_size : (j + 1) * patch_size,\n",
        "                ]\n",
        "                patches[idx, i * n_patches + j] = patch.flatten() # patch.flatten() dimensions: (C * H/P * W/P)\n",
        "    return patches\n",
        "\n"
      ]
    },
    {
      "cell_type": "markdown",
      "metadata": {
        "id": "y8hhhY5R1_KW"
      },
      "source": [
        "### Linear embedding\n",
        "\n",
        "Now that we have our flattened patches, we can map each of them through a Linear mapping. While each patch was a 4x4=16 dimensional vector, the linear mapping can map to any arbitrary vector size. Thus, we will use for this a parameter `hidden_d` for \"hidden dimension\".\n",
        "\n",
        "In this example, we will use a hidden dimension of 8, but in principle, any number can be put here. We will thus be mapping each 16-dimensional patch to an 8-dimensional patch.\n"
      ]
    },
    {
      "cell_type": "markdown",
      "metadata": {
        "id": "FAIAiC6_1_KW"
      },
      "source": [
        "### Positional encoding\n",
        "\n",
        "Positional encoding allows the model to understand where each patch would be placed in the original image. While it is theoretically possible to learn such positional embeddings, previous work by [Vaswani et al. in 2017](https://arxiv.org/abs/1706.03762) suggests that we can just add sines and cosines waves.\n",
        "\n",
        "In particular, positional encoding adds high-frequency values to the first dimensions and lower-frequency values to the latter dimensions.\n",
        "\n",
        "In each sequence, for token i we add to its j-th coordinate the following value:\n",
        "\n",
        "![Positional encoding](./figures/positional_encoding.png \"Positional encoding\").\n",
        "\n",
        "This positional embedding is a function of the number of elements in the sequence and the dimensionality of each element. Thus, it is always a 2-dimensional tensor or “rectangle”.\n",
        "\n",
        "Here is a simple function that, given the number of tokens and the dimensionality of each of them, outputs a matrix where each coordinate (i,j) is the value to be added to token i in dimension j.\n",
        "\n",
        "This positional encoding is added to our model after the linear mapping and the addition of the class token."
      ]
    },
    {
      "cell_type": "code",
      "execution_count": 7,
      "metadata": {
        "id": "bOaI_5SrO4vB"
      },
      "outputs": [],
      "source": [
        "def get_positional_embeddings(sequence_length, d):\n",
        "    result = torch.ones(sequence_length, d)\n",
        "    for i in range(sequence_length):\n",
        "        for j in range(d):\n",
        "            result[i][j] = (\n",
        "                np.sin(i / (10000 ** (j / d)))\n",
        "                if j % 2 == 0\n",
        "                else np.cos(i / (10000 ** ((j - 1) / d)))\n",
        "            )\n",
        "    return result"
      ]
    },
    {
      "cell_type": "markdown",
      "metadata": {
        "id": "MbWflPb71_KW"
      },
      "source": [
        "### Multi-Head Self-Attention\n",
        "\n",
        "The objective is now that, for a single image, each patch has to be updated based on some similarity measure with the other patches. We do so by linearly mapping each patch (that is now an 8-dimensional vector in our example) to 3 distinct vectors: q, k, and v (query, key, value).\n",
        "\n",
        "Then, for a single patch, we are going to compute the dot product between its q vector with all of the k vectors, divide by the square root of the dimensionality of these vectors (sqrt(8)), softmax these so-called attention cues, and finally multiply each attention cue with the v vectors associated with the different k vectors and sum all up.\n",
        "\n",
        "In this way, each patch assumes a new value that is based on its similarity (after the linear mapping to q, k, and v) with other patches. This whole procedure, however, is carried out H times on H sub-vectors of our current 8-dimensional patches, where H is the number of Heads.\n",
        "\n",
        "Once all results are obtained, they are concatenated together. Finally, the result is passed through a linear layer (for good measure).\n",
        "\n",
        "The intuitive idea behind attention is that it allows modeling the relationship between the inputs. What makes a ‘0’ a zero are not the individual pixel values, but how they relate to each other.\n",
        "\n",
        "This is implemented in the MSA class:"
      ]
    },
    {
      "cell_type": "code",
      "execution_count": 8,
      "metadata": {
        "id": "CIoyR-QsOruC"
      },
      "outputs": [],
      "source": [
        "class MSA(nn.Module):\n",
        "    def __init__(self, d, n_heads=2):\n",
        "        super().__init__()\n",
        "        self.d = d # Embedding space dimension\n",
        "        self.n_heads = n_heads # Number of heads into an attention block (run in parallel)\n",
        "\n",
        "        assert d % n_heads == 0, f\"Can't divide dimension {d} into {n_heads} heads\"\n",
        "\n",
        "        d_head = int(d / n_heads)\n",
        "        self.q_mappings = nn.ModuleList(\n",
        "            [nn.Linear(d_head, d_head) for _ in range(self.n_heads)]\n",
        "        )\n",
        "        self.k_mappings = nn.ModuleList(\n",
        "            [nn.Linear(d_head, d_head) for _ in range(self.n_heads)]\n",
        "        )\n",
        "        self.v_mappings = nn.ModuleList(\n",
        "            [nn.Linear(d_head, d_head) for _ in range(self.n_heads)]\n",
        "        )\n",
        "        self.d_head = d_head\n",
        "        # Attention sub space dimension is equal to d_head\n",
        "        self.softmax = nn.Softmax(dim=-1)\n",
        "\n",
        "    def forward(self, sequences):\n",
        "        # N: batch size\n",
        "        # Sequences has shape (N, seq_length, token_dim)\n",
        "        # We go into shape    (N, seq_length, n_heads, token_dim / n_heads)\n",
        "        # And come back to    (N, seq_length, item_dim)  (through concatenation)\n",
        "        result = []\n",
        "        for sequence in sequences:\n",
        "            # sequence has shape (seq_length, token_dim)\n",
        "            seq_result = []\n",
        "            for head in range(self.n_heads):\n",
        "                q_mapping = self.q_mappings[head]\n",
        "                k_mapping = self.k_mappings[head]\n",
        "                v_mapping = self.v_mappings[head]\n",
        "\n",
        "                seq = sequence[:, head * self.d_head : (head + 1) * self.d_head]\n",
        "                # seq has shape (seq_length, d_head)\n",
        "                q, k, v = q_mapping(seq), k_mapping(seq), v_mapping(seq)\n",
        "\n",
        "                # relevance_score: relevance between query Qi and key Kj (dot production)\n",
        "                relevance_scores = torch.matmul(q, k.transpose(-2, -1)) / torch.sqrt(torch.tensor(self.d_head, dtype=torch.float32))\n",
        "                # q has shape (seq_length, d_head), k has shape (seq_length, d_head)\n",
        "                # then relevance_scores has shape (seq_length, seq_length)\n",
        "\n",
        "                # normalized_relevance_score: normalize scores into probabilities for each query along keys\n",
        "                normalized_relevance_scores = F.softmax(relevance_scores, dim = -1)\n",
        "\n",
        "                attention = torch.matmul(normalized_relevance_scores, v)\n",
        "                # can be seen as a weighted sum of how to move the original token embedding\n",
        "                # under the influence of relevant other tokens in the sentence. We refine the\n",
        "                # token embedding.\n",
        "\n",
        "                seq_result.append(attention)\n",
        "\n",
        "            result.append(torch.hstack(seq_result))\n",
        "        return torch.cat([torch.unsqueeze(r, dim=0) for r in result])"
      ]
    },
    {
      "cell_type": "markdown",
      "metadata": {
        "id": "IylHirbX1_KX"
      },
      "source": [
        "Notice that, for each head, we create distinct Q, K, and V mapping functions (square matrices of size 4x4 in our example).\n",
        "\n",
        "Since our inputs will be sequences of size (N, 50, 8), and we only use 2 heads, we will at some point have an (N, 50, 2, 4) tensor, use a nn.Linear(4, 4) module on it, and then come back, after concatenation, to an (N, 50, 8) tensor.\n",
        "\n",
        "Also notice that using loops is not the most efficient way to compute the multi-head self-attention, but it makes the code much clearer for learning."
      ]
    },
    {
      "cell_type": "markdown",
      "metadata": {
        "id": "AtIwxhLo1_KX"
      },
      "source": [
        "### Transformer Encoder Blocks\n",
        "\n",
        "The next step is to create the transformer encoder block class.\n",
        "\n",
        "Layer normalization (LN) is a popular block that, given an input, subtracts its mean and divides by the standard deviation. It is applied to the last dimension only. We can thus make each of our 50x8 matrices (representing a single sequence) have mean 0 and std 1. After we run our (N, 50, 8) tensor through LN, we still get the same dimensionality.\n",
        "\n",
        "Also, We will be using residual connection that consists in adding the original input to the result of some computation. This, intuitively, allows a network to become more powerful while also preserving the set of possible functions that the model can approximate.\n",
        "\n",
        "We will add a residual connection that will add our original (N, 50, 8) tensor to the (N, 50, 8) obtained after LN and MSA.\n",
        "\n",
        "Next is to add a simple residual connection between what we already have and what we get after passing the current tensor through another LN and an MLP. The MLP is composed of two layers, where the hidden layer typically is four times as big (this is a parameter).\n",
        "\n",
        "The transformer encoder block class (which will be a component of the future ViT class) is thus as follows:"
      ]
    },
    {
      "cell_type": "code",
      "execution_count": 9,
      "metadata": {
        "id": "sv8wnTx4OwP7"
      },
      "outputs": [],
      "source": [
        "class ViTBlock(nn.Module):\n",
        "    def __init__(self, hidden_d, n_heads, mlp_ratio=4):\n",
        "        super().__init__()\n",
        "        self.hidden_d = hidden_d\n",
        "        self.n_heads = n_heads\n",
        "\n",
        "        self.norm1 = nn.LayerNorm(hidden_d)\n",
        "        self.mhsa = MSA(hidden_d, n_heads)\n",
        "        self.norm2 = nn.LayerNorm(hidden_d)\n",
        "        self.mlp = nn.Sequential(\n",
        "            nn.Linear(hidden_d, mlp_ratio * hidden_d),\n",
        "            nn.GELU(),\n",
        "            nn.Linear(mlp_ratio * hidden_d, hidden_d),\n",
        "        )\n",
        "\n",
        "    def forward(self, x):\n",
        "        x = self.mhsa(self.norm1(x)) + x\n",
        "        x = self.mlp(self.norm2(x)) + x\n",
        "        # after the forward pass, output has shape (batch_size, #patch + 1, patch_dimensionality). In our case (N, 50, 8)\n",
        "        return x\n"
      ]
    },
    {
      "cell_type": "markdown",
      "metadata": {
        "id": "_4y4Pk391_KX"
      },
      "source": [
        "### ViT model\n",
        "\n",
        "Now that the encoder block is ready, we just need to insert it in our bigger ViT model which is responsible for patchifying before the transformer blocks, and carrying out the classification after.\n",
        "\n",
        "To help classification, we will use an additional **classification token** to the input sequence. This is a special token that we add to our model that has the role of capturing information about the other tokens. This will happen with the MSA block. When information about all other tokens will be present here, we will be able to classify the image using only this special token. The initial value of the special token (the one fed to the transformer encoder) is a parameter of the model that needs to be learned.\n",
        "\n",
        "Thus, we will add a parameter to our model and convert our (N, 49, 8) tokens tensor to an (N, 50, 8) tensor (we add the special token to each sequence).\n",
        "\n",
        "We could have an arbitrary number of transformer blocks. In this example, to keep it simple, I will use only 2. We also add a parameter to know how many heads does each encoder block will use.\n",
        "\n",
        "Finally, we can extract just the classification token (first token) out of our N sequences, and use each token to get N classifications.\n",
        "\n",
        "Since we decided that each token is an 8-dimensional vector, and since we have 10 possible digits, we can implement the classification MLP as a simple 8x10 matrix, activated with the SoftMax function.\n",
        "\n",
        "The output of our model shoud be an (N, 10) tensor."
      ]
    },
    {
      "cell_type": "code",
      "execution_count": 10,
      "metadata": {
        "id": "8Na9BTgnOy3o"
      },
      "outputs": [],
      "source": [
        "class ViT(nn.Module):\n",
        "    def __init__(self, chw, n_patches=7, n_blocks=2, hidden_d=8, n_heads=2, out_d=10):\n",
        "        # Super constructor\n",
        "        super().__init__()\n",
        "\n",
        "        # Attributes\n",
        "        self.chw = chw\n",
        "        self.n_patches = n_patches\n",
        "        self.n_blocks = n_blocks\n",
        "        self.n_heads = n_heads\n",
        "        self.hidden_d = hidden_d\n",
        "\n",
        "        # Input and patches sizes\n",
        "        assert (\n",
        "            chw[1] % n_patches == 0\n",
        "        ), \"Input shape not entirely divisible by number of patches\"\n",
        "        assert (\n",
        "            chw[2] % n_patches == 0\n",
        "        ), \"Input shape not entirely divisible by number of patches\"\n",
        "        self.patch_size = (chw[1] / n_patches, chw[2] / n_patches)\n",
        "\n",
        "        # 1) Linear mapper\n",
        "        self.input_d = int(chw[0] * self.patch_size[0] * self.patch_size[1]) # in our case chw[0] = 1\n",
        "        self.linear_mapper = nn.Linear(self.input_d, self.hidden_d)\n",
        "\n",
        "        # 2) Learnable classification token\n",
        "        self.class_token = nn.Parameter(torch.rand(1, self.hidden_d))\n",
        "\n",
        "        # 3) Positional embedding\n",
        "        self.register_buffer(\n",
        "            \"positional_embeddings\",\n",
        "            get_positional_embeddings(n_patches**2 + 1, hidden_d), # correspond to all patches + classification token\n",
        "            persistent=False,\n",
        "        )\n",
        "\n",
        "        # 4) Transformer encoder blocks: we chose to use only 2\n",
        "        self.blocks = nn.ModuleList(\n",
        "            [ViTBlock(hidden_d, n_heads) for _ in range(n_blocks)]\n",
        "        )\n",
        "\n",
        "        # 5) Classification MLPk\n",
        "        self.mlp = nn.Sequential(nn.Linear(self.hidden_d, out_d), nn.Softmax(dim=-1))\n",
        "\n",
        "    def forward(self, images):\n",
        "\n",
        "        # Dividing images into patches\n",
        "        n, c, h, w = images.shape\n",
        "        patches = patchify(images, self.n_patches) # patches dimensions: (N, P*P, C * H/P * W/P)\n",
        "\n",
        "        # Running linear layer tokenization\n",
        "        # Map the vector corresponding to each patch to the hidden size dimension\n",
        "        # linear mapper: (N, P*P, C * H/P * W/P) -> (N, P*P, hidden_d)\n",
        "        tokens = self.linear_mapper(patches)\n",
        "\n",
        "        # Adding classification token to the tokens\n",
        "        # let's repeat class_token for for batch_size (n), once per patch (1) and keep its dimension hidden_d (-1)\n",
        "        tokens = torch.cat((self.class_token.expand(n, 1, -1), tokens), dim= 1) # (N, P*P + 1, hidden_d)\n",
        "\n",
        "        # Adding positional embedding\n",
        "\n",
        "        # let's repeat positional_embeddings for each sequence in the batch (n) and keep other dimensions\n",
        "        positional_embeddings = self.positional_embeddings.expand(n, -1, -1) # (N, P*P+1, hidden_d)\n",
        "        out = tokens + positional_embeddings\n",
        "\n",
        "        # Transformer Blocks (2)\n",
        "        for block in self.blocks:\n",
        "            out = block(out)\n",
        "\n",
        "        # Getting the classification token only\n",
        "        out = out[:, 0:1, :] # (N, 1, hidden_d)\n",
        "\n",
        "        # Map to output dimension, output category distribution\n",
        "        out = self.mlp(out) # (N, out_d)\n",
        "\n",
        "        return out"
      ]
    },
    {
      "cell_type": "markdown",
      "metadata": {
        "id": "nff04cpJxWxi"
      },
      "source": []
    },
    {
      "cell_type": "markdown",
      "metadata": {
        "id": "DTR7Z-CV1_KX"
      },
      "source": [
        "### ViT training\n",
        "\n",
        "The ViT model being built, the next step is to train it on the MNIST dataset."
      ]
    },
    {
      "cell_type": "markdown",
      "metadata": {
        "id": "nVWFuX8o1_KX"
      },
      "source": [
        "First, we initialize the model and the hyperparameters."
      ]
    },
    {
      "cell_type": "code",
      "execution_count": 11,
      "metadata": {
        "id": "aQo2lg0B1_KX",
        "colab": {
          "base_uri": "https://localhost:8080/"
        },
        "outputId": "d1b2ef52-2bf7-4cae-bbf1-120dfa3ebe31"
      },
      "outputs": [
        {
          "output_type": "stream",
          "name": "stdout",
          "text": [
            "Using device:  cuda (Tesla T4)\n"
          ]
        }
      ],
      "source": [
        "device = torch.device(\"cuda\" if torch.cuda.is_available() else \"cpu\")\n",
        "print(\n",
        "    \"Using device: \",\n",
        "    device,\n",
        "    f\"({torch.cuda.get_device_name(device)})\" if torch.cuda.is_available() else \"\",\n",
        ")\n",
        "\n",
        "model = ViT(\n",
        "    (1, 28, 28), n_patches=7, n_blocks=2, hidden_d=8, n_heads=2, out_d=10\n",
        ").to(device)\n",
        "\n",
        "N_EPOCHS = 5\n",
        "LR = 0.005"
      ]
    },
    {
      "cell_type": "markdown",
      "metadata": {
        "id": "qLBBhvMe1_KY"
      },
      "source": [
        "Training of the ViT model:"
      ]
    },
    {
      "cell_type": "code",
      "execution_count": null,
      "metadata": {
        "id": "0xSVGapF1_KY",
        "colab": {
          "base_uri": "https://localhost:8080/"
        },
        "outputId": "9305883a-c5f9-40d6-fa28-5014e85fcf59"
      },
      "outputs": [
        {
          "output_type": "stream",
          "name": "stdout",
          "text": [
            "Epoch 1/5 loss: 2.10\n",
            "Epoch 2/5 loss: 1.81\n",
            "Epoch 3/5 loss: 1.72\n",
            "Epoch 4/5 loss: 1.69\n",
            "Epoch 5/5 loss: 1.66\n",
            "Model saved !\n"
          ]
        }
      ],
      "source": [
        "optimizer = Adam(model.parameters(), lr=LR)\n",
        "criterion = CrossEntropyLoss()\n",
        "for epoch in range(N_EPOCHS):\n",
        "    train_loss = 0.0\n",
        "    for batch in train_loader:\n",
        "        x, y = batch\n",
        "        x, y = x.to(device), y.to(device)\n",
        "\n",
        "        optimizer.zero_grad()\n",
        "\n",
        "        y_hat = model(x)\n",
        "        loss = criterion(y_hat, y)\n",
        "\n",
        "        train_loss += loss.detach().cpu().item() / len(train_loader)\n",
        "\n",
        "        loss.backward()\n",
        "        optimizer.step()\n",
        "\n",
        "\n",
        "    print(f\"Epoch {epoch + 1}/{N_EPOCHS} loss: {train_loss:.2f}\")\n",
        "\n",
        "\n",
        "PATH = \"ViT.pth\"\n",
        "\n",
        "# save model\n",
        "torch.save({\n",
        "    'epoch': N_EPOCHS,\n",
        "    'model_state_dict': model.state_dict(),\n",
        "    'optimizer_state_dict': optimizer.state_dict(),\n",
        "    'loss': train_loss,\n",
        "}, PATH)\n",
        "\n",
        "print(\"Model saved !\")"
      ]
    },
    {
      "cell_type": "markdown",
      "metadata": {
        "id": "npyS9gDH1_KY"
      },
      "source": [
        "### ViT test\n",
        "\n",
        "Finally, let's test the trained model."
      ]
    },
    {
      "cell_type": "code",
      "execution_count": null,
      "metadata": {
        "id": "h55dVGGhOaPI",
        "colab": {
          "base_uri": "https://localhost:8080/"
        },
        "outputId": "adf0b1ed-1636-4d92-8685-b8812b03cd73"
      },
      "outputs": [
        {
          "output_type": "stream",
          "name": "stdout",
          "text": [
            "Test loss: 1.63\n",
            "Test accuracy: 82.28%\n"
          ]
        }
      ],
      "source": [
        "with torch.no_grad():\n",
        "    correct, total = 0, 0\n",
        "    test_loss = 0.0\n",
        "    for batch in test_loader:\n",
        "        x, y = batch\n",
        "        x, y = x.to(device), y.to(device)\n",
        "\n",
        "        y_hat = model(x) # (N, out_d)\n",
        "        test_loss = criterion(y_hat, y)\n",
        "\n",
        "        _, predicted = torch.max(y_hat, 1)\n",
        "        correct += (predicted == y).sum().item()\n",
        "        total += len(y)\n",
        "\n",
        "\n",
        "    print(f\"Test loss: {test_loss:.2f}\")\n",
        "    print(f\"Test accuracy: {correct / total * 100:.2f}%\")\n"
      ]
    },
    {
      "cell_type": "markdown",
      "source": [
        "Test loss is close to the train loss (1.63 vs 1.66). Howerver, it would have been more careful to use a validation set while updating model weights"
      ],
      "metadata": {
        "id": "wF_PaJT-35LK"
      }
    },
    {
      "cell_type": "markdown",
      "metadata": {
        "id": "l-dL52o_1_KY"
      },
      "source": [
        "## Further experiments\n",
        "\n",
        "1. Adapt the code to apply the ViT model on CIFAR dataset.\n",
        "2. Make use of a validation set to evaluate overfitting.\n",
        "3. Evaluate the model with a dimension of 16 for the tokens and 4 encoder blocks."
      ]
    },
    {
      "cell_type": "code",
      "source": [
        "import torch\n",
        "from torchvision import datasets, transforms\n",
        "from torch.utils.data import DataLoader, random_split\n",
        "\n",
        "# Load data\n",
        "transform = ToTensor()\n",
        "\n",
        "train_set = datasets.CIFAR10(root='./CIFAR10', train=True, download=True, transform=transform)\n",
        "test_set = datasets.CIFAR10(root='./CIFAR10', train=False, download=True, transform=transform)\n",
        "\n",
        "# train_set = Subset(train_set, indices=list(range(1000)))\n",
        "# test_set = Subset(test_set, indices=list(range(100)))\n",
        "\n",
        "# 45.000 training images, 5.000 validation images, 10.000 test images\n",
        "train_size = int(0.9 * len(train_set))  # 90% of training set for training\n",
        "val_size = len(train_set) - train_size  # 10% of training set for validation\n",
        "train_set, val_set = random_split(train_set, [train_size, val_size])\n",
        "\n",
        "\n",
        "train_loader = DataLoader(train_set, batch_size=128, shuffle=True)\n",
        "val_loader = DataLoader(val_set, batch_size=128, shuffle=False)\n",
        "test_loader = DataLoader(test_set, batch_size=128, shuffle=False)\n",
        "\n",
        "data_loaders = {\n",
        "    \"train\": train_loader,\n",
        "    \"val\": val_loader,\n",
        "    \"test\": test_loader,\n",
        "}"
      ],
      "metadata": {
        "id": "7XliRMVYqkJn",
        "colab": {
          "base_uri": "https://localhost:8080/"
        },
        "outputId": "207f1f1d-4d98-41a1-ea68-20aab47a0d83"
      },
      "execution_count": 70,
      "outputs": [
        {
          "output_type": "stream",
          "name": "stdout",
          "text": [
            "Files already downloaded and verified\n",
            "Files already downloaded and verified\n"
          ]
        }
      ]
    },
    {
      "cell_type": "code",
      "source": [
        "# Let's check dimensions\n",
        "print(f\"Train set size: {len(train_set)}\")\n",
        "print(f\"Validation set size: {len(val_set)}\")\n",
        "print(f\"Test set size: {len(test_set)}\")"
      ],
      "metadata": {
        "colab": {
          "base_uri": "https://localhost:8080/"
        },
        "id": "_4rcTjq3HcTN",
        "outputId": "6c8d1538-0ef8-4856-fcc0-65a98cd56f80"
      },
      "execution_count": 71,
      "outputs": [
        {
          "output_type": "stream",
          "name": "stdout",
          "text": [
            "Train set size: 45000\n",
            "Validation set size: 5000\n",
            "Test set size: 10000\n"
          ]
        }
      ]
    },
    {
      "cell_type": "code",
      "source": [
        "# Let's take a look at some pictures with their label in train set\n",
        "data_iter = iter(train_loader)\n",
        "images, labels = next(data_iter)\n",
        "\n",
        "# class name list\n",
        "classes = ['airplane', 'automobile', 'bird', 'cat', 'deer', 'dog', 'frog', 'horse', 'ship', 'truck']\n",
        "\n",
        "# display 3 images\n",
        "fig, axes = plt.subplots(1, 3, figsize=(12, 4))\n",
        "for i in range(3):\n",
        "    img = images[i]\n",
        "    img = img.permute(1, 2, 0).numpy()\n",
        "    axes[i].imshow(img)\n",
        "    axes[i].axis('off')\n",
        "    axes[i].set_title(f\"Label: {classes[labels[i]]}\")\n",
        "plt.show()"
      ],
      "metadata": {
        "colab": {
          "base_uri": "https://localhost:8080/",
          "height": 332
        },
        "id": "iBaVeurlHmv4",
        "outputId": "141d8963-4003-48fe-f0d5-4d881da4ef39"
      },
      "execution_count": 72,
      "outputs": [
        {
          "output_type": "display_data",
          "data": {
            "text/plain": [
              "<Figure size 1200x400 with 3 Axes>"
            ],
            "image/png": "[encoded data removed]"
          },
          "metadata": {}
        }
      ]
    },
    {
      "cell_type": "markdown",
      "source": [
        "In this section we deal with 3 color channel images. Size patch is (3, 32, 32).\n",
        "Let's break each image into 8x8 patches (hence, each of size 4x4). We are going to obtain\n",
        "8x8 = 64 sub-images out of a single image.\n",
        "\n",
        "Thus, we reshape input (N, 3, 32, 32) to (N, PxP, C x H/P x W/P) = (N, 64, 48)\n",
        "\n",
        "Each patch is a picture of size 3x4x4, we flatten it to a 48-dimensional vector."
      ],
      "metadata": {
        "id": "iKlNANxirpej"
      }
    },
    {
      "cell_type": "code",
      "source": [
        "device = torch.device(\"cuda\" if torch.cuda.is_available() else \"cpu\")\n",
        "print(\n",
        "    \"Using device: \",\n",
        "    device,\n",
        "    f\"({torch.cuda.get_device_name(device)})\" if torch.cuda.is_available() else \"\",\n",
        ")\n",
        "\n",
        "# CIFAR10 has 10 classes\n",
        "# As suggested: hidden_d = 16 and n_blocks = 4\n",
        "model_CIFAR10 = ViT(\n",
        "    (3, 32, 32), n_patches=8, n_blocks=4, hidden_d=16, n_heads = 2, out_d=10\n",
        ").to(device)\n",
        "\n",
        "\n",
        "N_EPOCHS = 5\n",
        "LR = 0.005"
      ],
      "metadata": {
        "colab": {
          "base_uri": "https://localhost:8080/"
        },
        "id": "tBCNCvIerqft",
        "outputId": "f79260b0-b523-4c16-a44c-c62726733180"
      },
      "execution_count": 73,
      "outputs": [
        {
          "output_type": "stream",
          "name": "stdout",
          "text": [
            "Using device:  cuda (Tesla T4)\n"
          ]
        }
      ]
    },
    {
      "cell_type": "markdown",
      "source": [],
      "metadata": {
        "id": "gHcjReMa1VPd"
      }
    },
    {
      "cell_type": "code",
      "source": [
        "import time\n",
        "import copy\n",
        "\n",
        "optimizer = Adam(model_CIFAR10.parameters(), lr=LR)\n",
        "criterion = CrossEntropyLoss()\n",
        "\n",
        "# Keep track of the time needed for training\n",
        "since = time.time()\n",
        "\n",
        "train_accuracies = []\n",
        "val_accuracies = []\n",
        "best_model_wts = copy.deepcopy(model_CIFAR10.state_dict())\n",
        "best_acc = 0.0\n",
        "\n",
        "epoch_time = []  # we'll keep track of the time needed for each epoch\n",
        "\n",
        "for epoch in range(N_EPOCHS):\n",
        "\n",
        "    # Keep track of the time needed for each epoch\n",
        "    epoch_start = time.time()\n",
        "    print(\"Epoch {}/{}\".format(epoch + 1, N_EPOCHS))\n",
        "    print(\"-\" * 10)\n",
        "\n",
        "    # Each epoch has a training and validation phase\n",
        "    for phase in [\"train\", \"val\"]:\n",
        "\n",
        "        print( ' ***' + str(phase) + '*** ')\n",
        "\n",
        "        if phase == \"train\":\n",
        "            model.train()  # Set model to training mode\n",
        "        else:\n",
        "            model.eval()  # Set model to evaluate mode\n",
        "\n",
        "        running_loss = 0.0\n",
        "        running_corrects = 0\n",
        "\n",
        "        # Iterate over data.\n",
        "        for inputs, labels in data_loaders[phase]:\n",
        "            inputs = inputs.to(device)\n",
        "            labels = labels.to(device)\n",
        "\n",
        "            # Zero the parameter gradients\n",
        "            optimizer.zero_grad()\n",
        "\n",
        "            # Forward\n",
        "            # Track history if only in training phase\n",
        "            outputs = model_CIFAR10(inputs)\n",
        "            outputs = outputs.squeeze(1) # from (128, 1, 10) to (128, 10)\n",
        "            _, preds = torch.max(outputs, 1)\n",
        "            loss = criterion(outputs, labels)\n",
        "\n",
        "            # Statistics\n",
        "            running_loss += loss.detach().cpu().item() * inputs.size(0)\n",
        "            running_corrects += torch.sum(preds == labels.data) # Number of correct predictions\n",
        "\n",
        "            # backward + optimize only if in training phase\n",
        "            if phase == \"train\":\n",
        "                loss.backward() # Compute the gradient\n",
        "                optimizer.step() # Update the weights\n",
        "\n",
        "        epoch_loss = running_loss / len(data_loaders[phase]) # Average loss over all batches\n",
        "        epoch_acc = running_corrects.double() / len(data_loaders[phase].dataset)\n",
        "\n",
        "        # Let's keep a track of training and validation accuracies over epochs\n",
        "        train_accuracies.append(epoch_acc.item()) if phase == \"train\" else val_accuracies.append(epoch_acc.item())\n",
        "\n",
        "        print(\"{} Loss: {:.2f} Acc: {:.2f}\".format(phase, epoch_loss, epoch_acc))\n",
        "\n",
        "        # Deep copy the model if it's the best one so far\n",
        "        if phase == \"val\" and epoch_acc > best_acc:\n",
        "            best_acc = epoch_acc\n",
        "            best_model_wts = copy.deepcopy(model_CIFAR10.state_dict())\n",
        "\n",
        "    # Add the epoch time\n",
        "    t_epoch = time.time() - epoch_start\n",
        "    epoch_time.append(t_epoch)\n",
        "\n",
        "# Print the time needed for the entire training\n",
        "time_elapsed = time.time() - since\n",
        "print(\n",
        "    \"Training complete in {:.0f}m {:.0f}s\".format(\n",
        "        time_elapsed // 60, time_elapsed % 60\n",
        "    )\n",
        ")\n",
        "\n",
        "# Print the best accuracy on validation set\n",
        "print(\"Best val Acc: {:4f}\".format(best_acc))\n",
        "\n",
        "# Load best model weights\n",
        "model_CIFAR10.load_state_dict(best_model_wts)"
      ],
      "metadata": {
        "colab": {
          "base_uri": "https://localhost:8080/"
        },
        "id": "7BT6KPf_tgLY",
        "outputId": "295985c8-a96e-432f-f9e1-8138056d6401"
      },
      "execution_count": null,
      "outputs": [
        {
          "output_type": "stream",
          "name": "stdout",
          "text": [
            "Epoch 1/5\n",
            "----------\n",
            " ***train*** \n",
            "train Loss: 279.40 Acc: 0.26\n",
            " ***val*** \n",
            "val Loss: 268.08 Acc: 0.31\n",
            "Epoch 2/5\n",
            "----------\n",
            " ***train*** \n",
            "train Loss: 272.25 Acc: 0.32\n",
            " ***val*** \n",
            "val Loss: 261.88 Acc: 0.36\n",
            "Epoch 3/5\n",
            "----------\n",
            " ***train*** \n",
            "train Loss: 269.54 Acc: 0.34\n",
            " ***val*** \n",
            "val Loss: 264.25 Acc: 0.34\n",
            "Epoch 4/5\n",
            "----------\n",
            " ***train*** \n"
          ]
        }
      ]
    },
    {
      "cell_type": "code",
      "source": [
        "plt.plot(train_accuracies, label='Train')\n",
        "plt.plot(val_accuracies, label='Validation')\n",
        "plt.xlabel('Epoch')\n",
        "plt.ylabel('Accuracy')\n",
        "plt.legend()\n",
        "plt.show()"
      ],
      "metadata": {
        "colab": {
          "base_uri": "https://localhost:8080/",
          "height": 449
        },
        "id": "f5_zQVMAafX3",
        "outputId": "a8e3984f-991b-4020-abbb-0aac6ff29a72"
      },
      "execution_count": 68,
      "outputs": [
        {
          "output_type": "display_data",
          "data": {
            "text/plain": [
              "<Figure size 640x480 with 1 Axes>"
            ],
            "image/png": "[encoded data removed]"
          },
          "metadata": {}
        }
      ]
    },
    {
      "cell_type": "markdown",
      "source": [
        "We use a validation test to avoid overfitting. Over an epoch, model weights are updated only if the accuracy on this set decrease (update if the model learns)."
      ],
      "metadata": {
        "id": "-Gwaeh2j3MNl"
      }
    },
    {
      "cell_type": "code",
      "source": [
        "with torch.no_grad():\n",
        "    correct, total = 0, 0\n",
        "    test_loss = 0.0\n",
        "    for batch in test_loader:\n",
        "        x, y = batch\n",
        "        x, y = x.to(device), y.to(device)\n",
        "\n",
        "        y_hat = model_CIFAR10(x) # (N, out_d)\n",
        "        y_hat = y_hat.squeeze(1)\n",
        "\n",
        "        _, predicted = torch.max(y_hat, 1)\n",
        "        correct += (predicted == y).sum().item()\n",
        "        total += len(y)\n",
        "\n",
        "\n",
        "    print(f\"Test accuracy: {correct / total * 100:.2f}%\")"
      ],
      "metadata": {
        "id": "E8zUwSiuwo7P",
        "colab": {
          "base_uri": "https://localhost:8080/"
        },
        "outputId": "158d98f1-c718-4488-a637-8a6bec11bf67"
      },
      "execution_count": 69,
      "outputs": [
        {
          "output_type": "stream",
          "name": "stdout",
          "text": [
            "Test accuracy: 39.00%\n"
          ]
        }
      ]
    }
  ],
  "metadata": {
    "accelerator": "GPU",
    "colab": {
      "gpuType": "T4",
      "provenance": [],
      "include_colab_link": true
    },
    "kernelspec": {
      "display_name": "Python 3",
      "name": "python3"
    },
    "language_info": {
      "codemirror_mode": {
        "name": "ipython",
        "version": 3
      },
      "file_extension": ".py",
      "mimetype": "text/x-python",
      "name": "python",
      "nbconvert_exporter": "python",
      "pygments_lexer": "ipython3",
      "version": "3.11.5"
    }
  },
  "nbformat": 4,
  "nbformat_minor": 0
}